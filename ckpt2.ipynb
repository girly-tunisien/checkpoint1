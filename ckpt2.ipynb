{
 "cells": [
  {
   "cell_type": "code",
   "execution_count": 1,
   "id": "bc1cdba0",
   "metadata": {},
   "outputs": [
    {
     "name": "stdout",
     "output_type": "stream",
     "text": [
      "your first name: yasmine\n",
      "your last name: hizem\n",
      "hizem yasmine\n"
     ]
    }
   ],
   "source": [
    "#question1\n",
    "c=input(\"your first name: \")\n",
    "a=input(\"your last name: \")\n",
    "k=(a+\" \"+c)\n",
    "print(k)"
   ]
  },
  {
   "cell_type": "code",
   "execution_count": 2,
   "id": "1087ba13",
   "metadata": {},
   "outputs": [
    {
     "name": "stdout",
     "output_type": "stream",
     "text": [
      "615\n"
     ]
    }
   ],
   "source": [
    "#question2\n",
    "n = 5\n",
    "k = (n+((n*10)+n)+((n*100)+(n*10)+n))\n",
    "print(k)"
   ]
  },
  {
   "cell_type": "code",
   "execution_count": 3,
   "id": "e09b5eff",
   "metadata": {},
   "outputs": [
    {
     "name": "stdout",
     "output_type": "stream",
     "text": [
      "write a number: 45\n",
      "this number is odd\n"
     ]
    }
   ],
   "source": [
    "#question3\n",
    "c=int(input(\"write a number: \"))\n",
    "if (c % 2) ==0:\n",
    "    print(\"this number in even\")\n",
    "else:\n",
    "    print(\"this number is odd\")"
   ]
  },
  {
   "cell_type": "code",
   "execution_count": 4,
   "id": "8e8898b8",
   "metadata": {},
   "outputs": [
    {
     "name": "stdout",
     "output_type": "stream",
     "text": [
      "2002,2009,2016,2023,2037,2044,2051,2058,2072,2079,2086,2093,2107,2114,2121,2128,2142,2149,2156,2163,2177,2184,2191,2198,2212,2219,2226,2233,2247,2254,2261,2268,2282,2289,2296,2303,2317,2324,2331,2338,2352,2359,2366,2373,2387,2394,2401,2408,2422,2429,2436,2443,2457,2464,2471,2478,2492,2499,2506,2513,2527,2534,2541,2548,2562,2569,2576,2583,2597,2604,2611,2618,2632,2639,2646,2653,2667,2674,2681,2688,2702,2709,2716,2723,2737,2744,2751,2758,2772,2779,2786,2793,2807,2814,2821,2828,2842,2849,2856,2863,2877,2884,2891,2898,2912,2919,2926,2933,2947,2954,2961,2968,2982,2989,2996,3003,3017,3024,3031,3038,3052,3059,3066,3073,3087,3094,3101,3108,3122,3129,3136,3143,3157,3164,3171,3178,3192,3199,"
     ]
    }
   ],
   "source": [
    "#question4\n",
    "for i in range(2000,3200):\n",
    "    if (i %7)==0 and (i%5)!=0:\n",
    "        print(i,end=\",\")"
   ]
  },
  {
   "cell_type": "code",
   "execution_count": 5,
   "id": "18b0a8f7",
   "metadata": {},
   "outputs": [
    {
     "name": "stdout",
     "output_type": "stream",
     "text": [
      "write number that you want it factorial: 8\n",
      "factorial of  8 is 40320\n"
     ]
    }
   ],
   "source": [
    "#question5\n",
    "c=int(input(\"write number that you want it factorial: \"))\n",
    "k= 1\n",
    "for i in range(1,c+1):\n",
    "    k=k*i\n",
    "print(\"factorial of \",c,\"is\",k)"
   ]
  },
  {
   "cell_type": "code",
   "execution_count": 6,
   "id": "2e1c6e55",
   "metadata": {},
   "outputs": [
    {
     "name": "stdout",
     "output_type": "stream",
     "text": [
      "Enter a string : hello team\n",
      "hlota\n"
     ]
    }
   ],
   "source": [
    "#question6\n",
    "k = \"\"\n",
    "word = input(\"Enter a string : \")\n",
    "for i in range(len(word)):\n",
    "     if i%2==0:\n",
    "        k = k + word[i]\n",
    "print(k)"
   ]
  },
  {
   "cell_type": "code",
   "execution_count": 7,
   "id": "c2054cce",
   "metadata": {},
   "outputs": [
    {
     "name": "stdout",
     "output_type": "stream",
     "text": [
      "put a number: 100\n",
      "90\n"
     ]
    }
   ],
   "source": [
    "#question7\n",
    "c=int(input(\"put a number: \"))\n",
    "if c >=500:\n",
    "        k=int((50*c)/100)\n",
    "        print(c-k)\n",
    "elif c<=500 and c>=200:\n",
    "    k=((30*c)/100)\n",
    "    print(c-k)\n",
    "else:\n",
    "    k=int((10*c)/100)\n",
    "    print(c-k)"
   ]
  },
  {
   "cell_type": "code",
   "execution_count": null,
   "id": "4ef967ea",
   "metadata": {},
   "outputs": [],
   "source": []
  }
 ],
 "metadata": {
  "kernelspec": {
   "display_name": "Python 3",
   "language": "python",
   "name": "python3"
  },
  "language_info": {
   "codemirror_mode": {
    "name": "ipython",
    "version": 3
   },
   "file_extension": ".py",
   "mimetype": "text/x-python",
   "name": "python",
   "nbconvert_exporter": "python",
   "pygments_lexer": "ipython3",
   "version": "3.8.8"
  }
 },
 "nbformat": 4,
 "nbformat_minor": 5
}
